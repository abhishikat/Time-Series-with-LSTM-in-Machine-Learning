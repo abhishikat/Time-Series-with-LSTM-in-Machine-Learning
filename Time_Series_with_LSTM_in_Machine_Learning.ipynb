{
  "nbformat": 4,
  "nbformat_minor": 0,
  "metadata": {
    "colab": {
      "name": "Time Series with LSTM in Machine Learning.ipynb",
      "provenance": [],
      "authorship_tag": "ABX9TyOU67s2LTgwgwFAl3B01ULz",
      "include_colab_link": true
    },
    "kernelspec": {
      "name": "python3",
      "display_name": "Python 3"
    },
    "language_info": {
      "name": "python"
    }
  },
  "cells": [
    {
      "cell_type": "markdown",
      "metadata": {
        "id": "view-in-github",
        "colab_type": "text"
      },
      "source": [
        "<a href=\"https://colab.research.google.com/github/abhishikat/Time-Series-with-LSTM-in-Machine-Learning/blob/main/Time_Series_with_LSTM_in_Machine_Learning.ipynb\" target=\"_parent\"><img src=\"https://colab.research.google.com/assets/colab-badge.svg\" alt=\"Open In Colab\"/></a>"
      ]
    },
    {
      "cell_type": "markdown",
      "source": [
        "# **Time Series with Long Term Short Term Memory**"
      ],
      "metadata": {
        "id": "x5SovFKiuigM"
      }
    },
    {
      "cell_type": "markdown",
      "source": [
        "***Time series forecasting is a technique for predicting events through a time sequence***"
      ],
      "metadata": {
        "id": "fbTvTkMPw8Jl"
      }
    },
    {
      "cell_type": "code",
      "execution_count": 6,
      "metadata": {
        "id": "e1qA82eouUMN"
      },
      "outputs": [],
      "source": [
        "import numpy\n",
        "import matplotlib.pyplot as plt\n",
        "import pandas\n",
        "import math\n",
        "from keras.models import Sequential\n",
        "from keras.layers import Dense\n",
        "from keras.layers import LSTM\n",
        "from sklearn.preprocessing import MinMaxScaler\n",
        "from sklearn.metrics import mean_squared_error\n",
        "# fix random seed for reproducibility\n",
        "numpy.random.seed(7)"
      ]
    },
    {
      "cell_type": "code",
      "source": [
        "from google.colab import files\n",
        "uploaded = files.upload()\n",
        "# load the dataset\n",
        "dataframe = pandas.read_csv('convertcsv.csv', usecols=[1], engine='python')\n",
        "dataset = dataframe.values\n",
        "dataset = dataset.astype('float32')\n",
        "# normalize the dataset\n",
        "scaler = MinMaxScaler(feature_range=(0, 1))\n",
        "dataset = scaler.fit_transform(dataset)\n"
      ],
      "metadata": {
        "colab": {
          "resources": {
            "http://localhost:8080/nbextensions/google.colab/files.js": {
              "data": "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",
              "ok": true,
              "headers": [
                [
                  "content-type",
                  "application/javascript"
                ]
              ],
              "status": 200,
              "status_text": ""
            }
          },
          "base_uri": "https://localhost:8080/",
          "height": 73
        },
        "id": "LWolCNbLuW6f",
        "outputId": "be72af11-00f2-48ee-bc5f-95fd5194e12e"
      },
      "execution_count": 8,
      "outputs": [
        {
          "output_type": "display_data",
          "data": {
            "text/html": [
              "\n",
              "     <input type=\"file\" id=\"files-848266ac-a516-4660-a066-357ae0b474d6\" name=\"files[]\" multiple disabled\n",
              "        style=\"border:none\" />\n",
              "     <output id=\"result-848266ac-a516-4660-a066-357ae0b474d6\">\n",
              "      Upload widget is only available when the cell has been executed in the\n",
              "      current browser session. Please rerun this cell to enable.\n",
              "      </output>\n",
              "      <script src=\"/nbextensions/google.colab/files.js\"></script> "
            ],
            "text/plain": [
              "<IPython.core.display.HTML object>"
            ]
          },
          "metadata": {}
        },
        {
          "output_type": "stream",
          "name": "stdout",
          "text": [
            "Saving convertcsv.csv to convertcsv (1).csv\n"
          ]
        }
      ]
    },
    {
      "cell_type": "code",
      "source": [
        "# split into train and test sets\n",
        "train_size = int(len(dataset) * 0.67)\n",
        "test_size = len(dataset) - train_size\n",
        "train, test = dataset[0:train_size,:], dataset[train_size:len(dataset),:]\n",
        "print(len(train), len(test))"
      ],
      "metadata": {
        "colab": {
          "base_uri": "https://localhost:8080/"
        },
        "id": "pAy3rrAPuZ6a",
        "outputId": "ebb40d5c-7c1f-4e83-89fe-561008790e50"
      },
      "execution_count": 9,
      "outputs": [
        {
          "output_type": "stream",
          "name": "stdout",
          "text": [
            "96 48\n"
          ]
        }
      ]
    },
    {
      "cell_type": "code",
      "source": [
        ""
      ],
      "metadata": {
        "id": "ZJXVxPzmucaB"
      },
      "execution_count": null,
      "outputs": []
    },
    {
      "cell_type": "markdown",
      "source": [
        "***Prepare data with the help of Heper Function***\n"
      ],
      "metadata": {
        "id": "_RUFT_H-wizT"
      }
    },
    {
      "cell_type": "code",
      "source": [
        "# convert an array of values into a dataset matrix\n",
        "def create_dataset(dataset, look_back=1):\n",
        "\tdataX, dataY = [], []\n",
        "\tfor i in range(len(dataset)-look_back-1):\n",
        "\t\ta = dataset[i:(i+look_back), 0]\n",
        "\t\tdataX.append(a)\n",
        "\t\tdataY.append(dataset[i + look_back, 0])\n",
        "\treturn numpy.array(dataX), numpy.array(dataY)"
      ],
      "metadata": {
        "id": "F9nLxLKUwqxy"
      },
      "execution_count": 10,
      "outputs": []
    },
    {
      "cell_type": "code",
      "source": [
        "# reshape into X=t and Y=t+1\n",
        "look_back = 1\n",
        "trainX, trainY = create_dataset(train, look_back)\n",
        "testX, testY = create_dataset(test, look_back)\n",
        "# reshape input to be [samples, time steps, features]\n",
        "trainX = numpy.reshape(trainX, (trainX.shape[0], 1, trainX.shape[1]))\n",
        "testX = numpy.reshape(testX, (testX.shape[0], 1, testX.shape[1]))"
      ],
      "metadata": {
        "id": "pIpIh03YwtgI"
      },
      "execution_count": 11,
      "outputs": []
    },
    {
      "cell_type": "code",
      "source": [
        "# create and fit the LSTM network\n",
        "model = Sequential()\n",
        "model.add(LSTM(4, input_shape=(1, look_back)))\n",
        "model.add(Dense(1))\n",
        "model.compile(loss='mean_squared_error', optimizer='adam')\n",
        "model.fit(trainX, trainY, epochs=100, batch_size=1, verbose=2)"
      ],
      "metadata": {
        "colab": {
          "base_uri": "https://localhost:8080/"
        },
        "id": "JyF2zKMtwwDy",
        "outputId": "facc2f14-bee2-4cf4-86a1-a0692b232f46"
      },
      "execution_count": 12,
      "outputs": [
        {
          "output_type": "stream",
          "name": "stdout",
          "text": [
            "Epoch 1/100\n",
            "94/94 - 2s - loss: 0.0437 - 2s/epoch - 18ms/step\n",
            "Epoch 2/100\n",
            "94/94 - 0s - loss: 0.0211 - 126ms/epoch - 1ms/step\n",
            "Epoch 3/100\n",
            "94/94 - 0s - loss: 0.0156 - 137ms/epoch - 1ms/step\n",
            "Epoch 4/100\n",
            "94/94 - 0s - loss: 0.0145 - 142ms/epoch - 2ms/step\n",
            "Epoch 5/100\n",
            "94/94 - 0s - loss: 0.0136 - 133ms/epoch - 1ms/step\n",
            "Epoch 6/100\n",
            "94/94 - 0s - loss: 0.0126 - 141ms/epoch - 2ms/step\n",
            "Epoch 7/100\n",
            "94/94 - 0s - loss: 0.0117 - 137ms/epoch - 1ms/step\n",
            "Epoch 8/100\n",
            "94/94 - 0s - loss: 0.0106 - 133ms/epoch - 1ms/step\n",
            "Epoch 9/100\n",
            "94/94 - 0s - loss: 0.0098 - 135ms/epoch - 1ms/step\n",
            "Epoch 10/100\n",
            "94/94 - 0s - loss: 0.0086 - 129ms/epoch - 1ms/step\n",
            "Epoch 11/100\n",
            "94/94 - 0s - loss: 0.0077 - 129ms/epoch - 1ms/step\n",
            "Epoch 12/100\n",
            "94/94 - 0s - loss: 0.0068 - 136ms/epoch - 1ms/step\n",
            "Epoch 13/100\n",
            "94/94 - 0s - loss: 0.0059 - 128ms/epoch - 1ms/step\n",
            "Epoch 14/100\n",
            "94/94 - 0s - loss: 0.0051 - 132ms/epoch - 1ms/step\n",
            "Epoch 15/100\n",
            "94/94 - 0s - loss: 0.0045 - 133ms/epoch - 1ms/step\n",
            "Epoch 16/100\n",
            "94/94 - 0s - loss: 0.0039 - 130ms/epoch - 1ms/step\n",
            "Epoch 17/100\n",
            "94/94 - 0s - loss: 0.0034 - 133ms/epoch - 1ms/step\n",
            "Epoch 18/100\n",
            "94/94 - 0s - loss: 0.0031 - 138ms/epoch - 1ms/step\n",
            "Epoch 19/100\n",
            "94/94 - 0s - loss: 0.0027 - 130ms/epoch - 1ms/step\n",
            "Epoch 20/100\n",
            "94/94 - 0s - loss: 0.0025 - 134ms/epoch - 1ms/step\n",
            "Epoch 21/100\n",
            "94/94 - 0s - loss: 0.0023 - 139ms/epoch - 1ms/step\n",
            "Epoch 22/100\n",
            "94/94 - 0s - loss: 0.0022 - 127ms/epoch - 1ms/step\n",
            "Epoch 23/100\n",
            "94/94 - 0s - loss: 0.0021 - 133ms/epoch - 1ms/step\n",
            "Epoch 24/100\n",
            "94/94 - 0s - loss: 0.0020 - 128ms/epoch - 1ms/step\n",
            "Epoch 25/100\n",
            "94/94 - 0s - loss: 0.0022 - 131ms/epoch - 1ms/step\n",
            "Epoch 26/100\n",
            "94/94 - 0s - loss: 0.0021 - 140ms/epoch - 1ms/step\n",
            "Epoch 27/100\n",
            "94/94 - 0s - loss: 0.0021 - 138ms/epoch - 1ms/step\n",
            "Epoch 28/100\n",
            "94/94 - 0s - loss: 0.0020 - 128ms/epoch - 1ms/step\n",
            "Epoch 29/100\n",
            "94/94 - 0s - loss: 0.0020 - 132ms/epoch - 1ms/step\n",
            "Epoch 30/100\n",
            "94/94 - 0s - loss: 0.0021 - 131ms/epoch - 1ms/step\n",
            "Epoch 31/100\n",
            "94/94 - 0s - loss: 0.0020 - 128ms/epoch - 1ms/step\n",
            "Epoch 32/100\n",
            "94/94 - 0s - loss: 0.0021 - 129ms/epoch - 1ms/step\n",
            "Epoch 33/100\n",
            "94/94 - 0s - loss: 0.0020 - 136ms/epoch - 1ms/step\n",
            "Epoch 34/100\n",
            "94/94 - 0s - loss: 0.0021 - 125ms/epoch - 1ms/step\n",
            "Epoch 35/100\n",
            "94/94 - 0s - loss: 0.0021 - 124ms/epoch - 1ms/step\n",
            "Epoch 36/100\n",
            "94/94 - 0s - loss: 0.0020 - 141ms/epoch - 1ms/step\n",
            "Epoch 37/100\n",
            "94/94 - 0s - loss: 0.0021 - 132ms/epoch - 1ms/step\n",
            "Epoch 38/100\n",
            "94/94 - 0s - loss: 0.0021 - 125ms/epoch - 1ms/step\n",
            "Epoch 39/100\n",
            "94/94 - 0s - loss: 0.0021 - 127ms/epoch - 1ms/step\n",
            "Epoch 40/100\n",
            "94/94 - 0s - loss: 0.0020 - 128ms/epoch - 1ms/step\n",
            "Epoch 41/100\n",
            "94/94 - 0s - loss: 0.0021 - 130ms/epoch - 1ms/step\n",
            "Epoch 42/100\n",
            "94/94 - 0s - loss: 0.0021 - 136ms/epoch - 1ms/step\n",
            "Epoch 43/100\n",
            "94/94 - 0s - loss: 0.0021 - 129ms/epoch - 1ms/step\n",
            "Epoch 44/100\n",
            "94/94 - 0s - loss: 0.0020 - 134ms/epoch - 1ms/step\n",
            "Epoch 45/100\n",
            "94/94 - 0s - loss: 0.0023 - 132ms/epoch - 1ms/step\n",
            "Epoch 46/100\n",
            "94/94 - 0s - loss: 0.0021 - 131ms/epoch - 1ms/step\n",
            "Epoch 47/100\n",
            "94/94 - 0s - loss: 0.0021 - 127ms/epoch - 1ms/step\n",
            "Epoch 48/100\n",
            "94/94 - 0s - loss: 0.0023 - 135ms/epoch - 1ms/step\n",
            "Epoch 49/100\n",
            "94/94 - 0s - loss: 0.0021 - 133ms/epoch - 1ms/step\n",
            "Epoch 50/100\n",
            "94/94 - 0s - loss: 0.0021 - 128ms/epoch - 1ms/step\n",
            "Epoch 51/100\n",
            "94/94 - 0s - loss: 0.0021 - 137ms/epoch - 1ms/step\n",
            "Epoch 52/100\n",
            "94/94 - 0s - loss: 0.0020 - 139ms/epoch - 1ms/step\n",
            "Epoch 53/100\n",
            "94/94 - 0s - loss: 0.0020 - 124ms/epoch - 1ms/step\n",
            "Epoch 54/100\n",
            "94/94 - 0s - loss: 0.0020 - 130ms/epoch - 1ms/step\n",
            "Epoch 55/100\n",
            "94/94 - 0s - loss: 0.0020 - 136ms/epoch - 1ms/step\n",
            "Epoch 56/100\n",
            "94/94 - 0s - loss: 0.0021 - 132ms/epoch - 1ms/step\n",
            "Epoch 57/100\n",
            "94/94 - 0s - loss: 0.0020 - 135ms/epoch - 1ms/step\n",
            "Epoch 58/100\n",
            "94/94 - 0s - loss: 0.0021 - 132ms/epoch - 1ms/step\n",
            "Epoch 59/100\n",
            "94/94 - 0s - loss: 0.0021 - 137ms/epoch - 1ms/step\n",
            "Epoch 60/100\n",
            "94/94 - 0s - loss: 0.0021 - 127ms/epoch - 1ms/step\n",
            "Epoch 61/100\n",
            "94/94 - 0s - loss: 0.0021 - 128ms/epoch - 1ms/step\n",
            "Epoch 62/100\n",
            "94/94 - 0s - loss: 0.0021 - 125ms/epoch - 1ms/step\n",
            "Epoch 63/100\n",
            "94/94 - 0s - loss: 0.0021 - 130ms/epoch - 1ms/step\n",
            "Epoch 64/100\n",
            "94/94 - 0s - loss: 0.0021 - 128ms/epoch - 1ms/step\n",
            "Epoch 65/100\n",
            "94/94 - 0s - loss: 0.0021 - 132ms/epoch - 1ms/step\n",
            "Epoch 66/100\n",
            "94/94 - 0s - loss: 0.0021 - 126ms/epoch - 1ms/step\n",
            "Epoch 67/100\n",
            "94/94 - 0s - loss: 0.0021 - 139ms/epoch - 1ms/step\n",
            "Epoch 68/100\n",
            "94/94 - 0s - loss: 0.0020 - 127ms/epoch - 1ms/step\n",
            "Epoch 69/100\n",
            "94/94 - 0s - loss: 0.0020 - 127ms/epoch - 1ms/step\n",
            "Epoch 70/100\n",
            "94/94 - 0s - loss: 0.0021 - 135ms/epoch - 1ms/step\n",
            "Epoch 71/100\n",
            "94/94 - 0s - loss: 0.0019 - 128ms/epoch - 1ms/step\n",
            "Epoch 72/100\n",
            "94/94 - 0s - loss: 0.0021 - 126ms/epoch - 1ms/step\n",
            "Epoch 73/100\n",
            "94/94 - 0s - loss: 0.0021 - 130ms/epoch - 1ms/step\n",
            "Epoch 74/100\n",
            "94/94 - 0s - loss: 0.0021 - 133ms/epoch - 1ms/step\n",
            "Epoch 75/100\n",
            "94/94 - 0s - loss: 0.0020 - 137ms/epoch - 1ms/step\n",
            "Epoch 76/100\n",
            "94/94 - 0s - loss: 0.0021 - 126ms/epoch - 1ms/step\n",
            "Epoch 77/100\n",
            "94/94 - 0s - loss: 0.0020 - 138ms/epoch - 1ms/step\n",
            "Epoch 78/100\n",
            "94/94 - 0s - loss: 0.0021 - 133ms/epoch - 1ms/step\n",
            "Epoch 79/100\n",
            "94/94 - 0s - loss: 0.0020 - 128ms/epoch - 1ms/step\n",
            "Epoch 80/100\n",
            "94/94 - 0s - loss: 0.0021 - 130ms/epoch - 1ms/step\n",
            "Epoch 81/100\n",
            "94/94 - 0s - loss: 0.0020 - 131ms/epoch - 1ms/step\n",
            "Epoch 82/100\n",
            "94/94 - 0s - loss: 0.0020 - 140ms/epoch - 1ms/step\n",
            "Epoch 83/100\n",
            "94/94 - 0s - loss: 0.0021 - 125ms/epoch - 1ms/step\n",
            "Epoch 84/100\n",
            "94/94 - 0s - loss: 0.0020 - 135ms/epoch - 1ms/step\n",
            "Epoch 85/100\n",
            "94/94 - 0s - loss: 0.0022 - 126ms/epoch - 1ms/step\n",
            "Epoch 86/100\n",
            "94/94 - 0s - loss: 0.0021 - 129ms/epoch - 1ms/step\n",
            "Epoch 87/100\n",
            "94/94 - 0s - loss: 0.0021 - 132ms/epoch - 1ms/step\n",
            "Epoch 88/100\n",
            "94/94 - 0s - loss: 0.0020 - 126ms/epoch - 1ms/step\n",
            "Epoch 89/100\n",
            "94/94 - 0s - loss: 0.0020 - 132ms/epoch - 1ms/step\n",
            "Epoch 90/100\n",
            "94/94 - 0s - loss: 0.0020 - 142ms/epoch - 2ms/step\n",
            "Epoch 91/100\n",
            "94/94 - 0s - loss: 0.0020 - 129ms/epoch - 1ms/step\n",
            "Epoch 92/100\n",
            "94/94 - 0s - loss: 0.0021 - 131ms/epoch - 1ms/step\n",
            "Epoch 93/100\n",
            "94/94 - 0s - loss: 0.0021 - 128ms/epoch - 1ms/step\n",
            "Epoch 94/100\n",
            "94/94 - 0s - loss: 0.0020 - 129ms/epoch - 1ms/step\n",
            "Epoch 95/100\n",
            "94/94 - 0s - loss: 0.0020 - 131ms/epoch - 1ms/step\n",
            "Epoch 96/100\n",
            "94/94 - 0s - loss: 0.0021 - 130ms/epoch - 1ms/step\n",
            "Epoch 97/100\n",
            "94/94 - 0s - loss: 0.0020 - 143ms/epoch - 2ms/step\n",
            "Epoch 98/100\n",
            "94/94 - 0s - loss: 0.0021 - 129ms/epoch - 1ms/step\n",
            "Epoch 99/100\n",
            "94/94 - 0s - loss: 0.0020 - 131ms/epoch - 1ms/step\n",
            "Epoch 100/100\n",
            "94/94 - 0s - loss: 0.0020 - 135ms/epoch - 1ms/step\n"
          ]
        },
        {
          "output_type": "execute_result",
          "data": {
            "text/plain": [
              "<keras.callbacks.History at 0x7fbae802eb50>"
            ]
          },
          "metadata": {},
          "execution_count": 12
        }
      ]
    },
    {
      "cell_type": "code",
      "source": [
        "# make predictions\n",
        "trainPredict = model.predict(trainX)\n",
        "testPredict = model.predict(testX)\n",
        "# invert predictions\n",
        "trainPredict = scaler.inverse_transform(trainPredict)\n",
        "trainY = scaler.inverse_transform([trainY])\n",
        "testPredict = scaler.inverse_transform(testPredict)\n",
        "testY = scaler.inverse_transform([testY])\n",
        "# calculate root mean squared error\n",
        "trainScore = math.sqrt(mean_squared_error(trainY[0], trainPredict[:,0]))\n",
        "testScore = math.sqrt(mean_squared_error(testY[0], testPredict[:,0]))\n",
        "\n",
        "# shift train predictions for plotting\n",
        "trainPredictPlot = numpy.empty_like(dataset)\n",
        "trainPredictPlot[:, :] = numpy.nan\n",
        "trainPredictPlot[look_back:len(trainPredict)+look_back, :] = trainPredict\n",
        "# shift test predictions for plotting\n",
        "testPredictPlot = numpy.empty_like(dataset)\n",
        "testPredictPlot[:, :] = numpy.nan\n",
        "testPredictPlot[len(trainPredict)+(look_back*2)+1:len(dataset)-1, :] = testPredict\n",
        "# plot baseline and predictions\n",
        "plt.plot(scaler.inverse_transform(dataset))\n",
        "plt.plot(trainPredictPlot)\n",
        "plt.plot(testPredictPlot)\n",
        "plt.show()"
      ],
      "metadata": {
        "colab": {
          "base_uri": "https://localhost:8080/",
          "height": 265
        },
        "id": "0uoW8Tr7wyvz",
        "outputId": "16dd3b23-bba8-43ff-d91e-16d1d97d7222"
      },
      "execution_count": 13,
      "outputs": [
        {
          "output_type": "display_data",
          "data": {
            "image/png": "[encoded data removed]",
            "text/plain": [
              "<Figure size 432x288 with 1 Axes>"
            ]
          },
          "metadata": {
            "needs_background": "light"
          }
        }
      ]
    },
    {
      "cell_type": "code",
      "source": [
        ""
      ],
      "metadata": {
        "id": "SCbBl9_Kw2wD"
      },
      "execution_count": null,
      "outputs": []
    }
  ]
}